{
 "cells": [
  {
   "cell_type": "markdown",
   "metadata": {},
   "source": [
    "# GitHub Insights\n",
    "\n",
    "## Imports"
   ]
  },
  {
   "cell_type": "code",
   "execution_count": null,
   "metadata": {},
   "outputs": [],
   "source": [
    "%pip install ibis-framework[duckdb]\n",
    "\n",
    "import ibis\n",
    "from ibis import _\n",
    "\n",
    "ibis.options.interactive = True"
   ]
  },
  {
   "cell_type": "markdown",
   "metadata": {},
   "source": [
    "## Load data"
   ]
  },
  {
   "cell_type": "code",
   "execution_count": 35,
   "metadata": {},
   "outputs": [],
   "source": [
    "con = ibis.connect(\"duckdb://\")\n",
    "\n",
    "start = ibis.date(\"2024-05-12\")\n",
    "end = ibis.date(\"2024-08-10\")\n",
    "\n",
    "top_issues = con.read_json(\"top_issues/flutter/flutter/2024-08-*.jsonl\")"
   ]
  },
  {
   "cell_type": "markdown",
   "metadata": {},
   "source": [
    "## Trending issues"
   ]
  },
  {
   "cell_type": "code",
   "execution_count": 9,
   "metadata": {},
   "outputs": [
    {
     "data": {
      "text/html": [
       "<pre style=\"white-space:pre;overflow-x:auto;line-height:normal;font-family:Menlo,'DejaVu Sans Mono',consolas,'Courier New',monospace\">┏━━━━━━━━━━━━┳━━━━━━━━━━━━━━━━━┳━━━━━━━┳━━━━━━━━━━━━━━━━━━━━━━━━━━━━━━━━━━━━━━━━━━━━━━━━━━━━━━━━━━━━━━┳━━━━━━━━┳━━━━━━━━━━┳━━━━━━━━━━━━━━┳━━━━━━━━━━━┳━━━━━━━━━━━━━━━━━━━━━━━━━━┳━━━━━━━━━━━━━━━━━━━━━━━━━━━━━━━━━━━━━━━━━━━━━━━━━┓\n",
       "┃<span style=\"font-weight: bold\"> date       </span>┃<span style=\"font-weight: bold\"> repository      </span>┃<span style=\"font-weight: bold\"> id    </span>┃<span style=\"font-weight: bold\"> title                                                        </span>┃<span style=\"font-weight: bold\"> state  </span>┃<span style=\"font-weight: bold\"> comments </span>┃<span style=\"font-weight: bold\"> participants </span>┃<span style=\"font-weight: bold\"> reactions </span>┃<span style=\"font-weight: bold\"> createdAt                </span>┃<span style=\"font-weight: bold\"> labels                                          </span>┃\n",
       "┡━━━━━━━━━━━━╇━━━━━━━━━━━━━━━━━╇━━━━━━━╇━━━━━━━━━━━━━━━━━━━━━━━━━━━━━━━━━━━━━━━━━━━━━━━━━━━━━━━━━━━━━━╇━━━━━━━━╇━━━━━━━━━━╇━━━━━━━━━━━━━━╇━━━━━━━━━━━╇━━━━━━━━━━━━━━━━━━━━━━━━━━╇━━━━━━━━━━━━━━━━━━━━━━━━━━━━━━━━━━━━━━━━━━━━━━━━━┩\n",
       "│ <span style=\"color: #7f7f7f; text-decoration-color: #7f7f7f\">date</span>       │ <span style=\"color: #7f7f7f; text-decoration-color: #7f7f7f\">string</span>          │ <span style=\"color: #7f7f7f; text-decoration-color: #7f7f7f\">int64</span> │ <span style=\"color: #7f7f7f; text-decoration-color: #7f7f7f\">string</span>                                                       │ <span style=\"color: #7f7f7f; text-decoration-color: #7f7f7f\">string</span> │ <span style=\"color: #7f7f7f; text-decoration-color: #7f7f7f\">int64</span>    │ <span style=\"color: #7f7f7f; text-decoration-color: #7f7f7f\">int64</span>        │ <span style=\"color: #7f7f7f; text-decoration-color: #7f7f7f\">int64</span>     │ <span style=\"color: #7f7f7f; text-decoration-color: #7f7f7f\">string</span>                   │ <span style=\"color: #7f7f7f; text-decoration-color: #7f7f7f\">array&lt;string&gt;</span>                                   │\n",
       "├────────────┼─────────────────┼───────┼──────────────────────────────────────────────────────────────┼────────┼──────────┼──────────────┼───────────┼──────────────────────────┼─────────────────────────────────────────────────┤\n",
       "│ <span style=\"color: #800080; text-decoration-color: #800080\">2024-09-01</span> │ <span style=\"color: #008000; text-decoration-color: #008000\">flutter/flutter</span> │ <span style=\"color: #008080; text-decoration-color: #008080; font-weight: bold\">14330</span> │ <span style=\"color: #008000; text-decoration-color: #008000\">Code Push / Hot Update / out of band updates                </span> │ <span style=\"color: #008000; text-decoration-color: #008000\">OPEN  </span> │      <span style=\"color: #008080; text-decoration-color: #008080; font-weight: bold\">287</span> │          <span style=\"color: #008080; text-decoration-color: #008080; font-weight: bold\">164</span> │      <span style=\"color: #008080; text-decoration-color: #008080; font-weight: bold\">1992</span> │ <span style=\"color: #008000; text-decoration-color: #008000\">2018-01-29T20:40:17.000Z</span> │ <span style=\"font-weight: bold\">[</span><span style=\"color: #008000; text-decoration-color: #008000\">'c: new feature'</span>, <span style=\"color: #008000; text-decoration-color: #008000\">'engine'</span>, <span style=\"color: #808000; text-decoration-color: #808000\">...</span> +<span style=\"color: #008080; text-decoration-color: #008080; font-weight: bold\">6</span><span style=\"font-weight: bold\">]</span>            │\n",
       "│ <span style=\"color: #800080; text-decoration-color: #800080\">2024-09-01</span> │ <span style=\"color: #008000; text-decoration-color: #008000\">flutter/flutter</span> │ <span style=\"color: #008080; text-decoration-color: #008080; font-weight: bold\">53041</span> │ <span style=\"color: #008000; text-decoration-color: #008000\">Enable \"hot reload\" (not just \"hot restart\") for Flutter Web</span> │ <span style=\"color: #008000; text-decoration-color: #008000\">OPEN  </span> │      <span style=\"color: #008080; text-decoration-color: #008080; font-weight: bold\">152</span> │           <span style=\"color: #008080; text-decoration-color: #008080; font-weight: bold\">74</span> │      <span style=\"color: #008080; text-decoration-color: #008080; font-weight: bold\">1122</span> │ <span style=\"color: #008000; text-decoration-color: #008000\">2020-03-22T09:27:31.000Z</span> │ <span style=\"font-weight: bold\">[</span><span style=\"color: #008000; text-decoration-color: #008000\">'c: new feature'</span>, <span style=\"color: #008000; text-decoration-color: #008000\">'dependency: dart'</span>, <span style=\"color: #808000; text-decoration-color: #808000\">...</span> +<span style=\"color: #008080; text-decoration-color: #008080; font-weight: bold\">10</span><span style=\"font-weight: bold\">]</span> │\n",
       "│ <span style=\"color: #800080; text-decoration-color: #800080\">2024-09-01</span> │ <span style=\"color: #008000; text-decoration-color: #008000\">flutter/flutter</span> │ <span style=\"color: #008080; text-decoration-color: #008080; font-weight: bold\">14050</span> │ <span style=\"color: #008000; text-decoration-color: #008000\">Let flutter be installable via homebrew                     </span> │ <span style=\"color: #008000; text-decoration-color: #008000\">OPEN  </span> │       <span style=\"color: #008080; text-decoration-color: #008080; font-weight: bold\">83</span> │           <span style=\"color: #008080; text-decoration-color: #008080; font-weight: bold\">53</span> │      <span style=\"color: #008080; text-decoration-color: #008080; font-weight: bold\">1005</span> │ <span style=\"color: #008000; text-decoration-color: #008000\">2018-01-11T19:00:27.000Z</span> │ <span style=\"font-weight: bold\">[</span><span style=\"color: #008000; text-decoration-color: #008000\">'c: new feature'</span>, <span style=\"color: #008000; text-decoration-color: #008000\">'tool'</span>, <span style=\"color: #808000; text-decoration-color: #808000\">...</span> +<span style=\"color: #008080; text-decoration-color: #008080; font-weight: bold\">6</span><span style=\"font-weight: bold\">]</span>              │\n",
       "│ <span style=\"color: #800080; text-decoration-color: #800080\">2024-09-01</span> │ <span style=\"color: #008000; text-decoration-color: #008000\">flutter/flutter</span> │ <span style=\"color: #008080; text-decoration-color: #008080; font-weight: bold\">46789</span> │ <span style=\"color: #008000; text-decoration-color: #008000\">Improve the indexability (SEO) of Flutter apps on the web   </span> │ <span style=\"color: #008000; text-decoration-color: #008000\">OPEN  </span> │      <span style=\"color: #008080; text-decoration-color: #008080; font-weight: bold\">196</span> │           <span style=\"color: #008080; text-decoration-color: #008080; font-weight: bold\">85</span> │       <span style=\"color: #008080; text-decoration-color: #008080; font-weight: bold\">793</span> │ <span style=\"color: #008000; text-decoration-color: #008000\">2019-12-11T17:11:17.000Z</span> │ <span style=\"font-weight: bold\">[</span><span style=\"color: #008000; text-decoration-color: #008000\">'c: new feature'</span>, <span style=\"color: #008000; text-decoration-color: #008000\">'framework'</span>, <span style=\"color: #808000; text-decoration-color: #808000\">...</span> +<span style=\"color: #008080; text-decoration-color: #008080; font-weight: bold\">6</span><span style=\"font-weight: bold\">]</span>         │\n",
       "│ <span style=\"color: #800080; text-decoration-color: #800080\">2024-09-01</span> │ <span style=\"color: #008000; text-decoration-color: #008000\">flutter/flutter</span> │ <span style=\"color: #008080; text-decoration-color: #008080; font-weight: bold\">41722</span> │ <span style=\"color: #008000; text-decoration-color: #008000\">Implement PlatformView support on macOS                     </span> │ <span style=\"color: #008000; text-decoration-color: #008000\">OPEN  </span> │       <span style=\"color: #008080; text-decoration-color: #008080; font-weight: bold\">64</span> │           <span style=\"color: #008080; text-decoration-color: #008080; font-weight: bold\">35</span> │       <span style=\"color: #008080; text-decoration-color: #008080; font-weight: bold\">651</span> │ <span style=\"color: #008000; text-decoration-color: #008000\">2019-10-01T17:57:26.000Z</span> │ <span style=\"font-weight: bold\">[</span><span style=\"color: #008000; text-decoration-color: #008000\">'c: new feature'</span>, <span style=\"color: #008000; text-decoration-color: #008000\">'platform-mac'</span>, <span style=\"color: #808000; text-decoration-color: #808000\">...</span> +<span style=\"color: #008080; text-decoration-color: #008080; font-weight: bold\">5</span><span style=\"font-weight: bold\">]</span>      │\n",
       "│ <span style=\"color: #800080; text-decoration-color: #800080\">2024-09-01</span> │ <span style=\"color: #008000; text-decoration-color: #008000\">flutter/flutter</span> │ <span style=\"color: #008080; text-decoration-color: #008080; font-weight: bold\">47600</span> │ <span style=\"color: #008000; text-decoration-color: #008000\">Server-side rendering for Flutter web                       </span> │ <span style=\"color: #008000; text-decoration-color: #008000\">OPEN  </span> │       <span style=\"color: #008080; text-decoration-color: #008080; font-weight: bold\">59</span> │           <span style=\"color: #008080; text-decoration-color: #008080; font-weight: bold\">42</span> │       <span style=\"color: #008080; text-decoration-color: #008080; font-weight: bold\">633</span> │ <span style=\"color: #008000; text-decoration-color: #008000\">2019-12-22T02:00:49.000Z</span> │ <span style=\"font-weight: bold\">[</span><span style=\"color: #008000; text-decoration-color: #008000\">'c: new feature'</span>, <span style=\"color: #008000; text-decoration-color: #008000\">'customer: crowd'</span>, <span style=\"color: #808000; text-decoration-color: #808000\">...</span> +<span style=\"color: #008080; text-decoration-color: #008080; font-weight: bold\">5</span><span style=\"font-weight: bold\">]</span>   │\n",
       "│ <span style=\"color: #800080; text-decoration-color: #800080\">2024-09-01</span> │ <span style=\"color: #008000; text-decoration-color: #008000\">flutter/flutter</span> │ <span style=\"color: #008080; text-decoration-color: #008080; font-weight: bold\">30701</span> │ <span style=\"color: #008000; text-decoration-color: #008000\">Support multiple windows for desktop shells                 </span> │ <span style=\"color: #008000; text-decoration-color: #008000\">OPEN  </span> │      <span style=\"color: #008080; text-decoration-color: #008080; font-weight: bold\">133</span> │           <span style=\"color: #008080; text-decoration-color: #008080; font-weight: bold\">80</span> │       <span style=\"color: #008080; text-decoration-color: #008080; font-weight: bold\">631</span> │ <span style=\"color: #008000; text-decoration-color: #008000\">2019-04-08T16:33:22.000Z</span> │ <span style=\"font-weight: bold\">[</span><span style=\"color: #008000; text-decoration-color: #008000\">'c: new feature'</span>, <span style=\"color: #008000; text-decoration-color: #008000\">'engine'</span>, <span style=\"color: #808000; text-decoration-color: #808000\">...</span> +<span style=\"color: #008080; text-decoration-color: #008080; font-weight: bold\">10</span><span style=\"font-weight: bold\">]</span>           │\n",
       "│ <span style=\"color: #800080; text-decoration-color: #800080\">2024-09-01</span> │ <span style=\"color: #008000; text-decoration-color: #008000\">flutter/flutter</span> │ <span style=\"color: #008080; text-decoration-color: #008080; font-weight: bold\">26801</span> │ <span style=\"color: #008000; text-decoration-color: #008000\">Apple CarPlay / Android Auto support?                       </span> │ <span style=\"color: #008000; text-decoration-color: #008000\">OPEN  </span> │       <span style=\"color: #008080; text-decoration-color: #008080; font-weight: bold\">53</span> │           <span style=\"color: #008080; text-decoration-color: #008080; font-weight: bold\">43</span> │       <span style=\"color: #008080; text-decoration-color: #008080; font-weight: bold\">507</span> │ <span style=\"color: #008000; text-decoration-color: #008000\">2019-01-19T09:29:46.000Z</span> │ <span style=\"font-weight: bold\">[</span><span style=\"color: #008000; text-decoration-color: #008000\">'c: new feature'</span>, <span style=\"color: #008000; text-decoration-color: #008000\">'engine'</span>, <span style=\"color: #808000; text-decoration-color: #808000\">...</span> +<span style=\"color: #008080; text-decoration-color: #008080; font-weight: bold\">4</span><span style=\"font-weight: bold\">]</span>            │\n",
       "│ <span style=\"color: #800080; text-decoration-color: #800080\">2024-09-01</span> │ <span style=\"color: #008000; text-decoration-color: #008000\">flutter/flutter</span> │ <span style=\"color: #008080; text-decoration-color: #008080; font-weight: bold\">94340</span> │ <span style=\"color: #008000; text-decoration-color: #008000\">[Feature Request] Support for Jetbrains Fleet</span><span style=\"color: #d78700; text-decoration-color: #d78700\">\\n</span><span style=\"color: #008000; text-decoration-color: #008000\">             </span> │ <span style=\"color: #008000; text-decoration-color: #008000\">OPEN  </span> │       <span style=\"color: #008080; text-decoration-color: #008080; font-weight: bold\">20</span> │            <span style=\"color: #008080; text-decoration-color: #008080; font-weight: bold\">9</span> │       <span style=\"color: #008080; text-decoration-color: #008080; font-weight: bold\">439</span> │ <span style=\"color: #008000; text-decoration-color: #008000\">2021-11-29T13:02:17.000Z</span> │ <span style=\"font-weight: bold\">[</span><span style=\"color: #008000; text-decoration-color: #008000\">'c: new feature'</span>, <span style=\"color: #008000; text-decoration-color: #008000\">'customer: crowd'</span>, <span style=\"color: #808000; text-decoration-color: #808000\">...</span> +<span style=\"color: #008080; text-decoration-color: #008080; font-weight: bold\">3</span><span style=\"font-weight: bold\">]</span>   │\n",
       "│ <span style=\"color: #800080; text-decoration-color: #800080\">2024-09-01</span> │ <span style=\"color: #008000; text-decoration-color: #008000\">flutter/flutter</span> │ <span style=\"color: #008080; text-decoration-color: #008080; font-weight: bold\">24213</span> │ <span style=\"color: #008000; text-decoration-color: #008000\">[google_maps_flutter] Support Widgets as markers            </span> │ <span style=\"color: #008000; text-decoration-color: #008000\">OPEN  </span> │       <span style=\"color: #008080; text-decoration-color: #008080; font-weight: bold\">55</span> │           <span style=\"color: #008080; text-decoration-color: #008080; font-weight: bold\">43</span> │       <span style=\"color: #008080; text-decoration-color: #008080; font-weight: bold\">437</span> │ <span style=\"color: #008000; text-decoration-color: #008000\">2018-11-10T16:08:29.000Z</span> │ <span style=\"font-weight: bold\">[</span><span style=\"color: #008000; text-decoration-color: #008000\">'c: new feature'</span>, <span style=\"color: #008000; text-decoration-color: #008000\">'customer: crowd'</span>, <span style=\"color: #808000; text-decoration-color: #808000\">...</span> +<span style=\"color: #008080; text-decoration-color: #008080; font-weight: bold\">6</span><span style=\"font-weight: bold\">]</span>   │\n",
       "│ <span style=\"color: #7f7f7f; text-decoration-color: #7f7f7f\">…</span>          │ <span style=\"color: #7f7f7f; text-decoration-color: #7f7f7f\">…</span>               │     <span style=\"color: #7f7f7f; text-decoration-color: #7f7f7f\">…</span> │ <span style=\"color: #7f7f7f; text-decoration-color: #7f7f7f\">…</span>                                                            │ <span style=\"color: #7f7f7f; text-decoration-color: #7f7f7f\">…</span>      │        <span style=\"color: #7f7f7f; text-decoration-color: #7f7f7f\">…</span> │            <span style=\"color: #7f7f7f; text-decoration-color: #7f7f7f\">…</span> │         <span style=\"color: #7f7f7f; text-decoration-color: #7f7f7f\">…</span> │ <span style=\"color: #7f7f7f; text-decoration-color: #7f7f7f\">…</span>                        │ <span style=\"color: #7f7f7f; text-decoration-color: #7f7f7f\">…</span>                                               │\n",
       "└────────────┴─────────────────┴───────┴──────────────────────────────────────────────────────────────┴────────┴──────────┴──────────────┴───────────┴──────────────────────────┴─────────────────────────────────────────────────┘\n",
       "</pre>\n"
      ],
      "text/plain": [
       "┏━━━━━━━━━━━━┳━━━━━━━━━━━━━━━━━┳━━━━━━━┳━━━━━━━━━━━━━━━━━━━━━━━━━━━━━━━━━━━━━━━━━━━━━━━━━━━━━━━━━━━━━━┳━━━━━━━━┳━━━━━━━━━━┳━━━━━━━━━━━━━━┳━━━━━━━━━━━┳━━━━━━━━━━━━━━━━━━━━━━━━━━┳━━━━━━━━━━━━━━━━━━━━━━━━━━━━━━━━━━━━━━━━━━━━━━━━━┓\n",
       "┃\u001b[1m \u001b[0m\u001b[1mdate\u001b[0m\u001b[1m      \u001b[0m\u001b[1m \u001b[0m┃\u001b[1m \u001b[0m\u001b[1mrepository\u001b[0m\u001b[1m     \u001b[0m\u001b[1m \u001b[0m┃\u001b[1m \u001b[0m\u001b[1mid\u001b[0m\u001b[1m   \u001b[0m\u001b[1m \u001b[0m┃\u001b[1m \u001b[0m\u001b[1mtitle\u001b[0m\u001b[1m                                                       \u001b[0m\u001b[1m \u001b[0m┃\u001b[1m \u001b[0m\u001b[1mstate\u001b[0m\u001b[1m \u001b[0m\u001b[1m \u001b[0m┃\u001b[1m \u001b[0m\u001b[1mcomments\u001b[0m\u001b[1m \u001b[0m┃\u001b[1m \u001b[0m\u001b[1mparticipants\u001b[0m\u001b[1m \u001b[0m┃\u001b[1m \u001b[0m\u001b[1mreactions\u001b[0m\u001b[1m \u001b[0m┃\u001b[1m \u001b[0m\u001b[1mcreatedAt\u001b[0m\u001b[1m               \u001b[0m\u001b[1m \u001b[0m┃\u001b[1m \u001b[0m\u001b[1mlabels\u001b[0m\u001b[1m                                         \u001b[0m\u001b[1m \u001b[0m┃\n",
       "┡━━━━━━━━━━━━╇━━━━━━━━━━━━━━━━━╇━━━━━━━╇━━━━━━━━━━━━━━━━━━━━━━━━━━━━━━━━━━━━━━━━━━━━━━━━━━━━━━━━━━━━━━╇━━━━━━━━╇━━━━━━━━━━╇━━━━━━━━━━━━━━╇━━━━━━━━━━━╇━━━━━━━━━━━━━━━━━━━━━━━━━━╇━━━━━━━━━━━━━━━━━━━━━━━━━━━━━━━━━━━━━━━━━━━━━━━━━┩\n",
       "│ \u001b[2mdate\u001b[0m       │ \u001b[2mstring\u001b[0m          │ \u001b[2mint64\u001b[0m │ \u001b[2mstring\u001b[0m                                                       │ \u001b[2mstring\u001b[0m │ \u001b[2mint64\u001b[0m    │ \u001b[2mint64\u001b[0m        │ \u001b[2mint64\u001b[0m     │ \u001b[2mstring\u001b[0m                   │ \u001b[2marray<string>\u001b[0m                                   │\n",
       "├────────────┼─────────────────┼───────┼──────────────────────────────────────────────────────────────┼────────┼──────────┼──────────────┼───────────┼──────────────────────────┼─────────────────────────────────────────────────┤\n",
       "│ \u001b[35m2024-09-01\u001b[0m │ \u001b[32mflutter/flutter\u001b[0m │ \u001b[1;36m14330\u001b[0m │ \u001b[32mCode Push / Hot Update / out of band updates                \u001b[0m │ \u001b[32mOPEN  \u001b[0m │      \u001b[1;36m287\u001b[0m │          \u001b[1;36m164\u001b[0m │      \u001b[1;36m1992\u001b[0m │ \u001b[32m2018-01-29T20:40:17.000Z\u001b[0m │ \u001b[1m[\u001b[0m\u001b[32m'c: new feature'\u001b[0m, \u001b[32m'engine'\u001b[0m, \u001b[33m...\u001b[0m +\u001b[1;36m6\u001b[0m\u001b[1m]\u001b[0m            │\n",
       "│ \u001b[35m2024-09-01\u001b[0m │ \u001b[32mflutter/flutter\u001b[0m │ \u001b[1;36m53041\u001b[0m │ \u001b[32mEnable \"hot reload\" (not just \"hot restart\") for Flutter Web\u001b[0m │ \u001b[32mOPEN  \u001b[0m │      \u001b[1;36m152\u001b[0m │           \u001b[1;36m74\u001b[0m │      \u001b[1;36m1122\u001b[0m │ \u001b[32m2020-03-22T09:27:31.000Z\u001b[0m │ \u001b[1m[\u001b[0m\u001b[32m'c: new feature'\u001b[0m, \u001b[32m'dependency: dart'\u001b[0m, \u001b[33m...\u001b[0m +\u001b[1;36m10\u001b[0m\u001b[1m]\u001b[0m │\n",
       "│ \u001b[35m2024-09-01\u001b[0m │ \u001b[32mflutter/flutter\u001b[0m │ \u001b[1;36m14050\u001b[0m │ \u001b[32mLet flutter be installable via homebrew                     \u001b[0m │ \u001b[32mOPEN  \u001b[0m │       \u001b[1;36m83\u001b[0m │           \u001b[1;36m53\u001b[0m │      \u001b[1;36m1005\u001b[0m │ \u001b[32m2018-01-11T19:00:27.000Z\u001b[0m │ \u001b[1m[\u001b[0m\u001b[32m'c: new feature'\u001b[0m, \u001b[32m'tool'\u001b[0m, \u001b[33m...\u001b[0m +\u001b[1;36m6\u001b[0m\u001b[1m]\u001b[0m              │\n",
       "│ \u001b[35m2024-09-01\u001b[0m │ \u001b[32mflutter/flutter\u001b[0m │ \u001b[1;36m46789\u001b[0m │ \u001b[32mImprove the indexability (SEO) of Flutter apps on the web   \u001b[0m │ \u001b[32mOPEN  \u001b[0m │      \u001b[1;36m196\u001b[0m │           \u001b[1;36m85\u001b[0m │       \u001b[1;36m793\u001b[0m │ \u001b[32m2019-12-11T17:11:17.000Z\u001b[0m │ \u001b[1m[\u001b[0m\u001b[32m'c: new feature'\u001b[0m, \u001b[32m'framework'\u001b[0m, \u001b[33m...\u001b[0m +\u001b[1;36m6\u001b[0m\u001b[1m]\u001b[0m         │\n",
       "│ \u001b[35m2024-09-01\u001b[0m │ \u001b[32mflutter/flutter\u001b[0m │ \u001b[1;36m41722\u001b[0m │ \u001b[32mImplement PlatformView support on macOS                     \u001b[0m │ \u001b[32mOPEN  \u001b[0m │       \u001b[1;36m64\u001b[0m │           \u001b[1;36m35\u001b[0m │       \u001b[1;36m651\u001b[0m │ \u001b[32m2019-10-01T17:57:26.000Z\u001b[0m │ \u001b[1m[\u001b[0m\u001b[32m'c: new feature'\u001b[0m, \u001b[32m'platform-mac'\u001b[0m, \u001b[33m...\u001b[0m +\u001b[1;36m5\u001b[0m\u001b[1m]\u001b[0m      │\n",
       "│ \u001b[35m2024-09-01\u001b[0m │ \u001b[32mflutter/flutter\u001b[0m │ \u001b[1;36m47600\u001b[0m │ \u001b[32mServer-side rendering for Flutter web                       \u001b[0m │ \u001b[32mOPEN  \u001b[0m │       \u001b[1;36m59\u001b[0m │           \u001b[1;36m42\u001b[0m │       \u001b[1;36m633\u001b[0m │ \u001b[32m2019-12-22T02:00:49.000Z\u001b[0m │ \u001b[1m[\u001b[0m\u001b[32m'c: new feature'\u001b[0m, \u001b[32m'customer: crowd'\u001b[0m, \u001b[33m...\u001b[0m +\u001b[1;36m5\u001b[0m\u001b[1m]\u001b[0m   │\n",
       "│ \u001b[35m2024-09-01\u001b[0m │ \u001b[32mflutter/flutter\u001b[0m │ \u001b[1;36m30701\u001b[0m │ \u001b[32mSupport multiple windows for desktop shells                 \u001b[0m │ \u001b[32mOPEN  \u001b[0m │      \u001b[1;36m133\u001b[0m │           \u001b[1;36m80\u001b[0m │       \u001b[1;36m631\u001b[0m │ \u001b[32m2019-04-08T16:33:22.000Z\u001b[0m │ \u001b[1m[\u001b[0m\u001b[32m'c: new feature'\u001b[0m, \u001b[32m'engine'\u001b[0m, \u001b[33m...\u001b[0m +\u001b[1;36m10\u001b[0m\u001b[1m]\u001b[0m           │\n",
       "│ \u001b[35m2024-09-01\u001b[0m │ \u001b[32mflutter/flutter\u001b[0m │ \u001b[1;36m26801\u001b[0m │ \u001b[32mApple CarPlay / Android Auto support?                       \u001b[0m │ \u001b[32mOPEN  \u001b[0m │       \u001b[1;36m53\u001b[0m │           \u001b[1;36m43\u001b[0m │       \u001b[1;36m507\u001b[0m │ \u001b[32m2019-01-19T09:29:46.000Z\u001b[0m │ \u001b[1m[\u001b[0m\u001b[32m'c: new feature'\u001b[0m, \u001b[32m'engine'\u001b[0m, \u001b[33m...\u001b[0m +\u001b[1;36m4\u001b[0m\u001b[1m]\u001b[0m            │\n",
       "│ \u001b[35m2024-09-01\u001b[0m │ \u001b[32mflutter/flutter\u001b[0m │ \u001b[1;36m94340\u001b[0m │ \u001b[32m[Feature Request] Support for Jetbrains Fleet\u001b[0m\u001b[38;5;172m\\n\u001b[0m\u001b[32m             \u001b[0m │ \u001b[32mOPEN  \u001b[0m │       \u001b[1;36m20\u001b[0m │            \u001b[1;36m9\u001b[0m │       \u001b[1;36m439\u001b[0m │ \u001b[32m2021-11-29T13:02:17.000Z\u001b[0m │ \u001b[1m[\u001b[0m\u001b[32m'c: new feature'\u001b[0m, \u001b[32m'customer: crowd'\u001b[0m, \u001b[33m...\u001b[0m +\u001b[1;36m3\u001b[0m\u001b[1m]\u001b[0m   │\n",
       "│ \u001b[35m2024-09-01\u001b[0m │ \u001b[32mflutter/flutter\u001b[0m │ \u001b[1;36m24213\u001b[0m │ \u001b[32m[google_maps_flutter] Support Widgets as markers            \u001b[0m │ \u001b[32mOPEN  \u001b[0m │       \u001b[1;36m55\u001b[0m │           \u001b[1;36m43\u001b[0m │       \u001b[1;36m437\u001b[0m │ \u001b[32m2018-11-10T16:08:29.000Z\u001b[0m │ \u001b[1m[\u001b[0m\u001b[32m'c: new feature'\u001b[0m, \u001b[32m'customer: crowd'\u001b[0m, \u001b[33m...\u001b[0m +\u001b[1;36m6\u001b[0m\u001b[1m]\u001b[0m   │\n",
       "│ \u001b[2m…\u001b[0m          │ \u001b[2m…\u001b[0m               │     \u001b[2m…\u001b[0m │ \u001b[2m…\u001b[0m                                                            │ \u001b[2m…\u001b[0m      │        \u001b[2m…\u001b[0m │            \u001b[2m…\u001b[0m │         \u001b[2m…\u001b[0m │ \u001b[2m…\u001b[0m                        │ \u001b[2m…\u001b[0m                                               │\n",
       "└────────────┴─────────────────┴───────┴──────────────────────────────────────────────────────────────┴────────┴──────────┴──────────────┴───────────┴──────────────────────────┴─────────────────────────────────────────────────┘"
      ]
     },
     "execution_count": 9,
     "metadata": {},
     "output_type": "execute_result"
    }
   ],
   "source": [
    "top_issues \\\n",
    ".filter(_.date.between(start, end)) \\\n",
    ".group_by([_.id]) \\\n",
    ".aggregate(\n",
    "  name = _.title.argmax(_.date),\n",
    "  reactions_start = _.reactions.argmin(_.date),\n",
    "  reactions_end = _.reactions.argmax(_.date),\n",
    ") \\\n",
    ".mutate(reactions_change = _.reactions_end - _.reactions_start) \\\n",
    ".select(_.id, _.name, total_reactions = _.reactions_end, reactions_change = _.reactions_change) \\\n",
    ".order_by(_.reactions_change.desc())\n",
    "\n",
    "top_issues"
   ]
  },
  {
   "cell_type": "markdown",
   "metadata": {},
   "source": [
    "## Trending issues by team\n",
    "\n",
    "### Framework\n",
    "\n",
    "`team-framework` issues that received the most reactions"
   ]
  },
  {
   "cell_type": "code",
   "execution_count": 39,
   "metadata": {},
   "outputs": [
    {
     "data": {
      "text/html": [
       "<pre style=\"white-space:pre;overflow-x:auto;line-height:normal;font-family:Menlo,'DejaVu Sans Mono',consolas,'Courier New',monospace\">┏━━━━━━━━━━━━━━━━━━━━━━━━┳━━━━━━━━━━━━━━━━━━━━━━━━━━━━━━━━━━━━━━━━━━━━━━━━━━━━━━━━━━━━━━━━━━━━━━━━┳━━━━━━━━━━━━━━━━━┳━━━━━━━━━━━━━━━━━━┓\n",
       "┃<span style=\"font-weight: bold\"> id                     </span>┃<span style=\"font-weight: bold\"> name                                                                   </span>┃<span style=\"font-weight: bold\"> total_reactions </span>┃<span style=\"font-weight: bold\"> recent_reactions </span>┃\n",
       "┡━━━━━━━━━━━━━━━━━━━━━━━━╇━━━━━━━━━━━━━━━━━━━━━━━━━━━━━━━━━━━━━━━━━━━━━━━━━━━━━━━━━━━━━━━━━━━━━━━━╇━━━━━━━━━━━━━━━━━╇━━━━━━━━━━━━━━━━━━┩\n",
       "│ <span style=\"color: #7f7f7f; text-decoration-color: #7f7f7f\">string</span>                 │ <span style=\"color: #7f7f7f; text-decoration-color: #7f7f7f\">string</span>                                                                 │ <span style=\"color: #7f7f7f; text-decoration-color: #7f7f7f\">int64</span>           │ <span style=\"color: #7f7f7f; text-decoration-color: #7f7f7f\">int64</span>            │\n",
       "├────────────────────────┼────────────────────────────────────────────────────────────────────────┼─────────────────┼──────────────────┤\n",
       "│ <span style=\"color: #008000; text-decoration-color: #008000\">flutter/flutter#59284 </span> │ <span style=\"color: #008000; text-decoration-color: #008000\">Text widget incorrectly wraps Korean text                             </span> │              <span style=\"color: #008080; text-decoration-color: #008080; font-weight: bold\">34</span> │                <span style=\"color: #008080; text-decoration-color: #008080; font-weight: bold\">9</span> │\n",
       "│ <span style=\"color: #008000; text-decoration-color: #008000\">flutter/flutter#151065</span> │ <span style=\"color: #008000; text-decoration-color: #008000\">Proposal: Framework needs to be aware of physical pixels              </span> │             <span style=\"color: #008080; text-decoration-color: #008080; font-weight: bold\">151</span> │                <span style=\"color: #008080; text-decoration-color: #008080; font-weight: bold\">6</span> │\n",
       "│ <span style=\"color: #008000; text-decoration-color: #008000\">flutter/flutter#127855</span> │ <span style=\"color: #008000; text-decoration-color: #008000\">Implement wide gamut color support in the Framework                   </span> │              <span style=\"color: #008080; text-decoration-color: #008080; font-weight: bold\">68</span> │                <span style=\"color: #008080; text-decoration-color: #008080; font-weight: bold\">6</span> │\n",
       "│ <span style=\"color: #008000; text-decoration-color: #008000\">flutter/flutter#30701 </span> │ <span style=\"color: #008000; text-decoration-color: #008000\">Support multiple windows for desktop shells                           </span> │             <span style=\"color: #008080; text-decoration-color: #008080; font-weight: bold\">624</span> │                <span style=\"color: #008080; text-decoration-color: #008080; font-weight: bold\">5</span> │\n",
       "│ <span style=\"color: #008000; text-decoration-color: #008000\">flutter/flutter#102003</span> │ <span style=\"color: #008000; text-decoration-color: #008000\">Rewrite the NestedScrollView                                          </span> │              <span style=\"color: #008080; text-decoration-color: #008080; font-weight: bold\">86</span> │                <span style=\"color: #008080; text-decoration-color: #008080; font-weight: bold\">5</span> │\n",
       "│ <span style=\"color: #008000; text-decoration-color: #008000\">flutter/flutter#65504 </span> │ <span style=\"color: #008000; text-decoration-color: #008000\">Ctrl+F support, finding text on a page (even when scrolled off screen)</span> │             <span style=\"color: #008080; text-decoration-color: #008080; font-weight: bold\">145</span> │                <span style=\"color: #008080; text-decoration-color: #008080; font-weight: bold\">3</span> │\n",
       "│ <span style=\"color: #008000; text-decoration-color: #008000\">flutter/flutter#32045 </span> │ <span style=\"color: #008000; text-decoration-color: #008000\">Flutter clipboard should support images                               </span> │              <span style=\"color: #008080; text-decoration-color: #008080; font-weight: bold\">91</span> │                <span style=\"color: #008080; text-decoration-color: #008080; font-weight: bold\">2</span> │\n",
       "│ <span style=\"color: #008000; text-decoration-color: #008000\">flutter/flutter#40675 </span> │ <span style=\"color: #008000; text-decoration-color: #008000\">Add `bool validateOnLostFocus` to the `FormField` and `Form` class    </span> │              <span style=\"color: #008080; text-decoration-color: #008080; font-weight: bold\">23</span> │                <span style=\"color: #008080; text-decoration-color: #008080; font-weight: bold\">2</span> │\n",
       "│ <span style=\"color: #008000; text-decoration-color: #008000\">flutter/flutter#54200 </span> │ <span style=\"color: #008000; text-decoration-color: #008000\">allow Hero widgets to have transitions within the same screen         </span> │             <span style=\"color: #008080; text-decoration-color: #008080; font-weight: bold\">224</span> │                <span style=\"color: #008080; text-decoration-color: #008080; font-weight: bold\">2</span> │\n",
       "│ <span style=\"color: #008000; text-decoration-color: #008000\">flutter/flutter#97544 </span> │ <span style=\"color: #008000; text-decoration-color: #008000\">SliverWrap widget                                                     </span> │              <span style=\"color: #008080; text-decoration-color: #008080; font-weight: bold\">48</span> │                <span style=\"color: #008080; text-decoration-color: #008080; font-weight: bold\">2</span> │\n",
       "│ <span style=\"color: #7f7f7f; text-decoration-color: #7f7f7f\">…</span>                      │ <span style=\"color: #7f7f7f; text-decoration-color: #7f7f7f\">…</span>                                                                      │               <span style=\"color: #7f7f7f; text-decoration-color: #7f7f7f\">…</span> │                <span style=\"color: #7f7f7f; text-decoration-color: #7f7f7f\">…</span> │\n",
       "└────────────────────────┴────────────────────────────────────────────────────────────────────────┴─────────────────┴──────────────────┘\n",
       "</pre>\n"
      ],
      "text/plain": [
       "┏━━━━━━━━━━━━━━━━━━━━━━━━┳━━━━━━━━━━━━━━━━━━━━━━━━━━━━━━━━━━━━━━━━━━━━━━━━━━━━━━━━━━━━━━━━━━━━━━━━┳━━━━━━━━━━━━━━━━━┳━━━━━━━━━━━━━━━━━━┓\n",
       "┃\u001b[1m \u001b[0m\u001b[1mid\u001b[0m\u001b[1m                    \u001b[0m\u001b[1m \u001b[0m┃\u001b[1m \u001b[0m\u001b[1mname\u001b[0m\u001b[1m                                                                  \u001b[0m\u001b[1m \u001b[0m┃\u001b[1m \u001b[0m\u001b[1mtotal_reactions\u001b[0m\u001b[1m \u001b[0m┃\u001b[1m \u001b[0m\u001b[1mrecent_reactions\u001b[0m\u001b[1m \u001b[0m┃\n",
       "┡━━━━━━━━━━━━━━━━━━━━━━━━╇━━━━━━━━━━━━━━━━━━━━━━━━━━━━━━━━━━━━━━━━━━━━━━━━━━━━━━━━━━━━━━━━━━━━━━━━╇━━━━━━━━━━━━━━━━━╇━━━━━━━━━━━━━━━━━━┩\n",
       "│ \u001b[2mstring\u001b[0m                 │ \u001b[2mstring\u001b[0m                                                                 │ \u001b[2mint64\u001b[0m           │ \u001b[2mint64\u001b[0m            │\n",
       "├────────────────────────┼────────────────────────────────────────────────────────────────────────┼─────────────────┼──────────────────┤\n",
       "│ \u001b[32mflutter/flutter#59284 \u001b[0m │ \u001b[32mText widget incorrectly wraps Korean text                             \u001b[0m │              \u001b[1;36m34\u001b[0m │                \u001b[1;36m9\u001b[0m │\n",
       "│ \u001b[32mflutter/flutter#151065\u001b[0m │ \u001b[32mProposal: Framework needs to be aware of physical pixels              \u001b[0m │             \u001b[1;36m151\u001b[0m │                \u001b[1;36m6\u001b[0m │\n",
       "│ \u001b[32mflutter/flutter#127855\u001b[0m │ \u001b[32mImplement wide gamut color support in the Framework                   \u001b[0m │              \u001b[1;36m68\u001b[0m │                \u001b[1;36m6\u001b[0m │\n",
       "│ \u001b[32mflutter/flutter#30701 \u001b[0m │ \u001b[32mSupport multiple windows for desktop shells                           \u001b[0m │             \u001b[1;36m624\u001b[0m │                \u001b[1;36m5\u001b[0m │\n",
       "│ \u001b[32mflutter/flutter#102003\u001b[0m │ \u001b[32mRewrite the NestedScrollView                                          \u001b[0m │              \u001b[1;36m86\u001b[0m │                \u001b[1;36m5\u001b[0m │\n",
       "│ \u001b[32mflutter/flutter#65504 \u001b[0m │ \u001b[32mCtrl+F support, finding text on a page (even when scrolled off screen)\u001b[0m │             \u001b[1;36m145\u001b[0m │                \u001b[1;36m3\u001b[0m │\n",
       "│ \u001b[32mflutter/flutter#32045 \u001b[0m │ \u001b[32mFlutter clipboard should support images                               \u001b[0m │              \u001b[1;36m91\u001b[0m │                \u001b[1;36m2\u001b[0m │\n",
       "│ \u001b[32mflutter/flutter#40675 \u001b[0m │ \u001b[32mAdd `bool validateOnLostFocus` to the `FormField` and `Form` class    \u001b[0m │              \u001b[1;36m23\u001b[0m │                \u001b[1;36m2\u001b[0m │\n",
       "│ \u001b[32mflutter/flutter#54200 \u001b[0m │ \u001b[32mallow Hero widgets to have transitions within the same screen         \u001b[0m │             \u001b[1;36m224\u001b[0m │                \u001b[1;36m2\u001b[0m │\n",
       "│ \u001b[32mflutter/flutter#97544 \u001b[0m │ \u001b[32mSliverWrap widget                                                     \u001b[0m │              \u001b[1;36m48\u001b[0m │                \u001b[1;36m2\u001b[0m │\n",
       "│ \u001b[2m…\u001b[0m                      │ \u001b[2m…\u001b[0m                                                                      │               \u001b[2m…\u001b[0m │                \u001b[2m…\u001b[0m │\n",
       "└────────────────────────┴────────────────────────────────────────────────────────────────────────┴─────────────────┴──────────────────┘"
      ]
     },
     "execution_count": 39,
     "metadata": {},
     "output_type": "execute_result"
    }
   ],
   "source": [
    "label = \"team-framework\"\n",
    "\n",
    "issues_with_label = \\\n",
    "top_issues \\\n",
    ".mutate(id = _.repository.concat(\"#\", _.id.cast(\"string\"))) \\\n",
    ".group_by([_.id]) \\\n",
    ".aggregate(labels = _.labels.argmax(_.date)) \\\n",
    ".filter(_.labels.contains(label)) \\\n",
    ".select(_.id)\n",
    "\n",
    "top_issues \\\n",
    ".filter(_.date.between(start, end)) \\\n",
    ".mutate(id = _.repository.concat(\"#\", _.id.cast(\"string\"))) \\\n",
    ".filter(_.id.isin(issues_with_label.id)) \\\n",
    ".group_by([_.id]) \\\n",
    ".aggregate(\n",
    "  name = _.title.argmax(_.date),\n",
    "  reactions_start = _.reactions.argmin(_.date),\n",
    "  reactions_end = _.reactions.argmax(_.date),\n",
    ") \\\n",
    ".mutate(recent_reactions = _.reactions_end - _.reactions_start) \\\n",
    ".select(_.id, _.name, total_reactions = _.reactions_end, recent_reactions = _.recent_reactions) \\\n",
    ".order_by(_.recent_reactions.desc())"
   ]
  },
  {
   "cell_type": "markdown",
   "metadata": {},
   "source": [
    "`"
   ]
  }
 ],
 "metadata": {
  "kernelspec": {
   "display_name": "Python 3",
   "language": "python",
   "name": "python3"
  },
  "language_info": {
   "codemirror_mode": {
    "name": "ipython",
    "version": 3
   },
   "file_extension": ".py",
   "mimetype": "text/x-python",
   "name": "python",
   "nbconvert_exporter": "python",
   "pygments_lexer": "ipython3",
   "version": "3.11.1"
  }
 },
 "nbformat": 4,
 "nbformat_minor": 2
}
